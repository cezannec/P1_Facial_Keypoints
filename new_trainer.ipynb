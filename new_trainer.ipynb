{
 "metadata": {
  "language_info": {
   "codemirror_mode": {
    "name": "ipython",
    "version": 3
   },
   "file_extension": ".py",
   "mimetype": "text/x-python",
   "name": "python",
   "nbconvert_exporter": "python",
   "pygments_lexer": "ipython3",
   "version": "3.7.5"
  },
  "orig_nbformat": 2,
  "kernelspec": {
   "name": "python375jvsc74a57bd004635d289a519a1410467dd0afb0db42f9184808881ca68b2eb5a687a20a5a94",
   "display_name": "Python 3.7.5 64-bit"
  }
 },
 "nbformat": 4,
 "nbformat_minor": 2,
 "cells": [
  {
   "cell_type": "code",
   "execution_count": null,
   "metadata": {},
   "outputs": [],
   "source": [
    "import numpy as np \n",
    "import pandas as pd \n",
    "import matplotlib.pyplot as plt \n",
    "import matplotlib.image as mpimg\n",
    "import cv2\n",
    "import os\n",
    "import tensorflow as tf\n",
    "from sklearn.model_selection import train_test_split \n",
    "\n",
    "from tensorflow.keras.preprocessing.image import ImageDataGenerator\n",
    "from tensorflow.keras.layers import Dense, Input, Dropout, Flatten,Conv2D,BatchNormalization,Activation, MaxPooling2D\n",
    "from tensorflow.keras.models import Model, Sequential\n",
    "from tensorflow.keras.optimizers import Adam\n",
    "from tensorflow.keras.callbacks import ModelCheckpoint, ReduceLROnPlateau"
   ]
  },
  {
   "cell_type": "code",
   "execution_count": null,
   "metadata": {},
   "outputs": [],
   "source": [
    "key_points_df= pd.read_csv('data/training_frames_keypoints.csv')\n",
    "\n",
    "def make_dataset(csv_dir, root_dir):\n",
    "    \n",
    "    key_points_frame = pd.read_csv(csv_dir)\n",
    "    x=[]\n",
    "    y=[]\n",
    "    \n",
    "    for i in range(len(key_points_frame)):\n",
    "        image_name= os.path.join(root_dir,key_points_frame.iloc[i,0])\n",
    "        image = cv2.imread(image_name)\n",
    "        image= image[:,:,0:3]\n",
    "        #image= cv2.cvtColor(image, cv2.COLOR_RGB2GRAY)\n",
    "        h, w = image.shape[:2]\n",
    "        image_resized = cv2.resize(image, (96,96),1)\n",
    "        #image_resized = image_resized/255.0\n",
    "        x.append(image_resized)\n",
    "        \n",
    "        key_points= key_points_frame.iloc[i, 1:].values\n",
    "        key_points= key_points.astype('float').reshape(-1,2)\n",
    "        key_points = key_points * [96/w, 96/h]\n",
    "        key_points= key_points.reshape(-1)\n",
    "        y.append(key_points)\n",
    "        \n",
    "    x = np.asarray(x, dtype=np.float32)\n",
    "    y= np.asarray(y, dtype=np.float32)\n",
    "\n",
    "    #sample={'image':x, 'points':y}\n",
    "    return x, y\n",
    "\n",
    "x_train, y_train= make_dataset(\"data/training_frames_keypoints.csv\", \"data/training/\")\n",
    "\n",
    "X_train, X_test, Y_train, Y_test = train_test_split(x_train, y_train, test_size=0.2, random_state=42)\n"
   ]
  },
  {
   "cell_type": "code",
   "execution_count": null,
   "metadata": {},
   "outputs": [],
   "source": [
    "\n",
    "print(X_train.shape)\n",
    "print(X_test.shape)\n"
   ]
  },
  {
   "cell_type": "code",
   "execution_count": null,
   "metadata": {},
   "outputs": [],
   "source": [
    "model = tf.keras.models.Sequential()\n",
    "\n",
    "model.add(tf.keras.layers.Conv2D(filters =32, kernel_size =(3,3), padding='same', input_shape=(96,96,3)))\n",
    "model.add(tf.keras.layers.LeakyReLU(alpha = 0.1))\n",
    "model.add(tf.keras.layers.BatchNormalization())\n",
    "model.add(tf.keras.layers.Conv2D(filters =32, kernel_size =(3,3),padding='same'))\n",
    "model.add(tf.keras.layers.LeakyReLU(alpha = 0.1))\n",
    "model.add(tf.keras.layers.BatchNormalization())\n",
    "model.add(tf.keras.layers.MaxPool2D(pool_size =2))\n",
    "\n",
    "model.add(tf.keras.layers.Dropout(0.5))\n",
    "\n",
    "model.add(tf.keras.layers.Conv2D(filters =64, kernel_size= (3,3),padding='same'))\n",
    "model.add(tf.keras.layers.LeakyReLU(alpha = 0.1))\n",
    "model.add(tf.keras.layers.BatchNormalization())\n",
    "model.add(tf.keras.layers.Conv2D(filters =64, kernel_size= (3,3),padding='same'))\n",
    "model.add(tf.keras.layers.LeakyReLU(alpha = 0.1))\n",
    "model.add(tf.keras.layers.BatchNormalization())\n",
    "model.add(tf.keras.layers.MaxPool2D(pool_size=2))\n",
    "\n",
    "model.add(tf.keras.layers.Dropout(0.3))\n",
    "\n",
    "model.add(tf.keras.layers.Conv2D(filters =128, kernel_size= (3,3),padding='same'))\n",
    "model.add(tf.keras.layers.LeakyReLU(alpha = 0.1))\n",
    "model.add(tf.keras.layers.BatchNormalization())\n",
    "model.add(tf.keras.layers.Conv2D(filters =128, kernel_size= (3,3),padding='same'))\n",
    "model.add(tf.keras.layers.LeakyReLU(alpha = 0.1))\n",
    "model.add(tf.keras.layers.BatchNormalization())\n",
    "model.add(tf.keras.layers.MaxPool2D(pool_size=2))\n",
    "\n",
    "model.add(tf.keras.layers.Conv2D(filters =256, kernel_size= (3,3),padding='same'))\n",
    "model.add(tf.keras.layers.LeakyReLU(alpha = 0.1))\n",
    "model.add(tf.keras.layers.BatchNormalization())\n",
    "model.add(tf.keras.layers.Conv2D(filters =256, kernel_size= (3,3),padding='same'))\n",
    "model.add(tf.keras.layers.LeakyReLU(alpha = 0.1))\n",
    "model.add(tf.keras.layers.BatchNormalization())\n",
    "model.add(tf.keras.layers.MaxPool2D(pool_size=2))\n",
    "\n",
    "model.add(tf.keras.layers.Dropout(0.25))\n",
    "\n",
    "model.add(tf.keras.layers.Conv2D(filters =512, kernel_size= (3,3),padding='same'))\n",
    "model.add(tf.keras.layers.LeakyReLU(alpha = 0.1))\n",
    "model.add(tf.keras.layers.BatchNormalization())\n",
    "model.add(tf.keras.layers.Conv2D(filters =512, kernel_size= (3,3),padding='same'))\n",
    "model.add(tf.keras.layers.LeakyReLU(alpha = 0.1))\n",
    "model.add(tf.keras.layers.BatchNormalization())\n",
    "\n",
    "model.add(tf.keras.layers.Dropout(0.2))\n",
    "\n",
    "model.add(tf.keras.layers.Flatten())\n",
    "model.add(tf.keras.layers.Dense(units=1024, activation='relu'))\n",
    "model.add(tf.keras.layers.Dropout(0.1))\n",
    "model.add(tf.keras.layers.Dense(units=512, activation='relu'))\n",
    "model.add(tf.keras.layers.Dropout(0.1))\n",
    "model.add(tf.keras.layers.Dense(units=136))\n",
    "model.compile(optimizer = 'adam', loss = 'mse', metrics = ['accuracy', 'mae'])\n"
   ]
  },
  {
   "cell_type": "code",
   "execution_count": null,
   "metadata": {},
   "outputs": [],
   "source": [
    "checkpoint = tf.keras.callbacks.ModelCheckpoint('model_weights.h5', monitor=['val_accuracy'],save_weights_only=True, mode='max', verbose=1)\n",
    "reduce_lr= tf.keras.callbacks.ReduceLROnPlateau(monitor='val_loss', factor = 0.9, patience=5, min_delta=0.00001, mode='auto')\n",
    "tensorboard_callback = tf.keras.callbacks.TensorBoard(log_dir=\"./logs\")\n",
    "callbacks = [tensorboard_callback,checkpoint]"
   ]
  },
  {
   "cell_type": "code",
   "execution_count": null,
   "metadata": {
    "tags": [
     "outputPrepend"
    ]
   },
   "outputs": [],
   "source": [
    "model.fit(X_train, Y_train, validation_data=(X_test, Y_test), epochs = 250 ,batch_size = 128, callbacks=callbacks)  \n"
   ]
  },
  {
   "cell_type": "code",
   "execution_count": null,
   "metadata": {},
   "outputs": [],
   "source": [
    "model_json = model.to_json()\n",
    "with open(\"model_new_latest.json\", \"w\") as json_file:\n",
    "    json_file.write(model_json)"
   ]
  },
  {
   "cell_type": "code",
   "execution_count": null,
   "metadata": {},
   "outputs": [],
   "source": [
    "score = model.evaluate(X_test, Y_test, verbose=0)\n",
    "print('Test loss:', score[0])\n",
    "print('Test accuracy:', score[1])\n"
   ]
  },
  {
   "cell_type": "code",
   "execution_count": null,
   "metadata": {},
   "outputs": [],
   "source": [
    "model.save_weights('model_weights_LATEST.h5')\n",
    "print('model weights saved to disk')"
   ]
  },
  {
   "cell_type": "code",
   "execution_count": null,
   "metadata": {},
   "outputs": [],
   "source": [
    "from tensorflow.keras.preprocessing import image\n",
    "test_image = image.load_img(\"data/test/Abdullah_Gul_31.jpg\", target_size=(96,96))\n",
    "test_image1 = np.asarray(test_image, dtype=np.float32)\n",
    "test_image1 = np.expand_dims(test_image, axis = 0)\n",
    "print(test_image1.shape)\n",
    "\n"
   ]
  },
  {
   "cell_type": "code",
   "execution_count": null,
   "metadata": {},
   "outputs": [],
   "source": [
    "result = model.predict(test_image1)\n",
    "result= result.astype('float').reshape(-1,2)\n",
    "plt.imshow(test_image)\n",
    "plt.scatter(result[:, 0], result[:, 1], s=20, marker='.', c='m')\n",
    "\n",
    "print(result)\n"
   ]
  },
  {
   "cell_type": "code",
   "execution_count": null,
   "metadata": {},
   "outputs": [],
   "source": []
  }
 ]
}